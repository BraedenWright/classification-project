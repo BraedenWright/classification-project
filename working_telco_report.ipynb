{
 "cells": [
  {
   "cell_type": "markdown",
   "id": "480c2850",
   "metadata": {},
   "source": [
    "# Imports"
   ]
  },
  {
   "cell_type": "code",
   "execution_count": 1,
   "id": "ba26ac85",
   "metadata": {},
   "outputs": [],
   "source": [
    "import numpy as np\n",
    "import pandas as pd\n",
    "import matplotlib.pyplot as plt\n",
    "import seaborn as sns\n",
    "\n",
    "from sklearn.tree import DecisionTreeClassifier\n",
    "from sklearn.model_selection import train_test_split\n",
    "from sklearn.tree import export_text\n",
    "from sklearn.metrics import classification_report\n",
    "from sklearn.metrics import confusion_matrix\n",
    "from sklearn.metrics import recall_score, precision_score, f1_score, accuracy_score\n",
    "from sklearn.ensemble import RandomForestClassifier\n",
    "from sklearn.neighbors import KNeighborsClassifier\n",
    "from sklearn.linear_model import LogisticRegression\n",
    "\n",
    "import warnings\n",
    "warnings.filterwarnings(\"ignore\")\n",
    "\n",
    "   # used to aquire dataset\n",
    "import acquire_telco as aq\n",
    "   # used to prepare and clean the dataset\n",
    "import prepare_telco as pp"
   ]
  },
  {
   "cell_type": "markdown",
   "id": "13ea01b8",
   "metadata": {},
   "source": [
    "# Data Aquistion"
   ]
  },
  {
   "cell_type": "code",
   "execution_count": 2,
   "id": "865953bc",
   "metadata": {},
   "outputs": [
    {
     "name": "stdout",
     "output_type": "stream",
     "text": [
      "Reading from csv file...\n",
      "<class 'pandas.core.frame.DataFrame'>\n",
      "RangeIndex: 7043 entries, 0 to 7042\n",
      "Data columns (total 24 columns):\n",
      " #   Column                    Non-Null Count  Dtype  \n",
      "---  ------                    --------------  -----  \n",
      " 0   payment_type_id           7043 non-null   int64  \n",
      " 1   internet_service_type_id  7043 non-null   int64  \n",
      " 2   contract_type_id          7043 non-null   int64  \n",
      " 3   customer_id               7043 non-null   object \n",
      " 4   gender                    7043 non-null   object \n",
      " 5   senior_citizen            7043 non-null   int64  \n",
      " 6   partner                   7043 non-null   object \n",
      " 7   dependents                7043 non-null   object \n",
      " 8   tenure                    7043 non-null   int64  \n",
      " 9   phone_service             7043 non-null   object \n",
      " 10  multiple_lines            7043 non-null   object \n",
      " 11  online_security           7043 non-null   object \n",
      " 12  online_backup             7043 non-null   object \n",
      " 13  device_protection         7043 non-null   object \n",
      " 14  tech_support              7043 non-null   object \n",
      " 15  streaming_tv              7043 non-null   object \n",
      " 16  streaming_movies          7043 non-null   object \n",
      " 17  paperless_billing         7043 non-null   object \n",
      " 18  monthly_charges           7043 non-null   float64\n",
      " 19  total_charges             7043 non-null   object \n",
      " 20  churn                     7043 non-null   object \n",
      " 21  contract_type             7043 non-null   object \n",
      " 22  internet_service_type     7043 non-null   object \n",
      " 23  payment_type              7043 non-null   object \n",
      "dtypes: float64(1), int64(5), object(18)\n",
      "memory usage: 1.3+ MB\n"
     ]
    }
   ],
   "source": [
    "# The function get_telco_data() I created in the file acquire.py pulls the dataset straight from SQL\n",
    "# UNLESS the data has already been downloaded as a .csv,\n",
    "# in which case the function will pull the data straight from that file instead.\n",
    "\n",
    "df = aq.get_telco_data()\n",
    "df.info()"
   ]
  },
  {
   "cell_type": "markdown",
   "id": "c633e462",
   "metadata": {},
   "source": [
    "# Data Preperation"
   ]
  },
  {
   "cell_type": "code",
   "execution_count": 3,
   "id": "4fd234c9",
   "metadata": {},
   "outputs": [],
   "source": [
    "# The function prep_telco() that I created in the file prepare.py takes in the Telco dataframe and cleans it\n",
    "# It does this by dropping uneeded columns ['payment_type_id', 'internet_service_type_id', 'contract_type_id']\n",
    "# I also made sure the function cleared any nulls from the dataset\n",
    "# Lastly, I make it easier to manipulate the data by creating dummy column for each categorical column."
   ]
  },
  {
   "cell_type": "code",
   "execution_count": 4,
   "id": "ffbd19ab",
   "metadata": {},
   "outputs": [
    {
     "data": {
      "text/html": [
       "<div>\n",
       "<style scoped>\n",
       "    .dataframe tbody tr th:only-of-type {\n",
       "        vertical-align: middle;\n",
       "    }\n",
       "\n",
       "    .dataframe tbody tr th {\n",
       "        vertical-align: top;\n",
       "    }\n",
       "\n",
       "    .dataframe thead th {\n",
       "        text-align: right;\n",
       "    }\n",
       "</style>\n",
       "<table border=\"1\" class=\"dataframe\">\n",
       "  <thead>\n",
       "    <tr style=\"text-align: right;\">\n",
       "      <th></th>\n",
       "      <th>customer_id</th>\n",
       "      <th>senior_citizen</th>\n",
       "      <th>tenure</th>\n",
       "      <th>monthly_charges</th>\n",
       "      <th>total_charges</th>\n",
       "      <th>gender_Male</th>\n",
       "      <th>partner_Yes</th>\n",
       "      <th>dependents_Yes</th>\n",
       "      <th>phone_service_Yes</th>\n",
       "      <th>multiple_lines_No phone service</th>\n",
       "      <th>...</th>\n",
       "      <th>streaming_movies_Yes</th>\n",
       "      <th>paperless_billing_Yes</th>\n",
       "      <th>churn_Yes</th>\n",
       "      <th>contract_type_One year</th>\n",
       "      <th>contract_type_Two year</th>\n",
       "      <th>internet_service_type_Fiber optic</th>\n",
       "      <th>internet_service_type_None</th>\n",
       "      <th>payment_type_Credit card (automatic)</th>\n",
       "      <th>payment_type_Electronic check</th>\n",
       "      <th>payment_type_Mailed check</th>\n",
       "    </tr>\n",
       "  </thead>\n",
       "  <tbody>\n",
       "    <tr>\n",
       "      <th>0</th>\n",
       "      <td>0002-ORFBO</td>\n",
       "      <td>0</td>\n",
       "      <td>9</td>\n",
       "      <td>65.6</td>\n",
       "      <td>593.3</td>\n",
       "      <td>0</td>\n",
       "      <td>1</td>\n",
       "      <td>1</td>\n",
       "      <td>1</td>\n",
       "      <td>0</td>\n",
       "      <td>...</td>\n",
       "      <td>0</td>\n",
       "      <td>1</td>\n",
       "      <td>0</td>\n",
       "      <td>1</td>\n",
       "      <td>0</td>\n",
       "      <td>0</td>\n",
       "      <td>0</td>\n",
       "      <td>0</td>\n",
       "      <td>0</td>\n",
       "      <td>1</td>\n",
       "    </tr>\n",
       "    <tr>\n",
       "      <th>1</th>\n",
       "      <td>0003-MKNFE</td>\n",
       "      <td>0</td>\n",
       "      <td>9</td>\n",
       "      <td>59.9</td>\n",
       "      <td>542.4</td>\n",
       "      <td>1</td>\n",
       "      <td>0</td>\n",
       "      <td>0</td>\n",
       "      <td>1</td>\n",
       "      <td>0</td>\n",
       "      <td>...</td>\n",
       "      <td>1</td>\n",
       "      <td>0</td>\n",
       "      <td>0</td>\n",
       "      <td>0</td>\n",
       "      <td>0</td>\n",
       "      <td>0</td>\n",
       "      <td>0</td>\n",
       "      <td>0</td>\n",
       "      <td>0</td>\n",
       "      <td>1</td>\n",
       "    </tr>\n",
       "  </tbody>\n",
       "</table>\n",
       "<p>2 rows × 32 columns</p>\n",
       "</div>"
      ],
      "text/plain": [
       "  customer_id  senior_citizen  tenure  monthly_charges  total_charges  \\\n",
       "0  0002-ORFBO               0       9             65.6          593.3   \n",
       "1  0003-MKNFE               0       9             59.9          542.4   \n",
       "\n",
       "   gender_Male  partner_Yes  dependents_Yes  phone_service_Yes  \\\n",
       "0            0            1               1                  1   \n",
       "1            1            0               0                  1   \n",
       "\n",
       "   multiple_lines_No phone service  ...  streaming_movies_Yes  \\\n",
       "0                                0  ...                     0   \n",
       "1                                0  ...                     1   \n",
       "\n",
       "   paperless_billing_Yes  churn_Yes  contract_type_One year  \\\n",
       "0                      1          0                       1   \n",
       "1                      0          0                       0   \n",
       "\n",
       "   contract_type_Two year  internet_service_type_Fiber optic  \\\n",
       "0                       0                                  0   \n",
       "1                       0                                  0   \n",
       "\n",
       "   internet_service_type_None  payment_type_Credit card (automatic)  \\\n",
       "0                           0                                     0   \n",
       "1                           0                                     0   \n",
       "\n",
       "   payment_type_Electronic check  payment_type_Mailed check  \n",
       "0                              0                          1  \n",
       "1                              0                          1  \n",
       "\n",
       "[2 rows x 32 columns]"
      ]
     },
     "execution_count": 4,
     "metadata": {},
     "output_type": "execute_result"
    }
   ],
   "source": [
    "df = pp.prep_telco(df)\n",
    "df.head(2)"
   ]
  },
  {
   "cell_type": "code",
   "execution_count": 5,
   "id": "b388d83f",
   "metadata": {},
   "outputs": [
    {
     "data": {
      "text/plain": [
       "customer_id                              0\n",
       "senior_citizen                           0\n",
       "tenure                                   0\n",
       "monthly_charges                          0\n",
       "total_charges                            0\n",
       "gender_Male                              0\n",
       "partner_Yes                              0\n",
       "dependents_Yes                           0\n",
       "phone_service_Yes                        0\n",
       "multiple_lines_No phone service          0\n",
       "multiple_lines_Yes                       0\n",
       "online_security_No internet service      0\n",
       "online_security_Yes                      0\n",
       "online_backup_No internet service        0\n",
       "online_backup_Yes                        0\n",
       "device_protection_No internet service    0\n",
       "device_protection_Yes                    0\n",
       "tech_support_No internet service         0\n",
       "tech_support_Yes                         0\n",
       "streaming_tv_No internet service         0\n",
       "streaming_tv_Yes                         0\n",
       "streaming_movies_No internet service     0\n",
       "streaming_movies_Yes                     0\n",
       "paperless_billing_Yes                    0\n",
       "churn_Yes                                0\n",
       "contract_type_One year                   0\n",
       "contract_type_Two year                   0\n",
       "internet_service_type_Fiber optic        0\n",
       "internet_service_type_None               0\n",
       "payment_type_Credit card (automatic)     0\n",
       "payment_type_Electronic check            0\n",
       "payment_type_Mailed check                0\n",
       "dtype: int64"
      ]
     },
     "execution_count": 5,
     "metadata": {},
     "output_type": "execute_result"
    }
   ],
   "source": [
    "# check for null values\n",
    "df.isna().sum()"
   ]
  },
  {
   "cell_type": "code",
   "execution_count": 6,
   "id": "645e5ee9",
   "metadata": {},
   "outputs": [],
   "source": [
    "# rename columns for readability\n",
    "\n",
    "df.rename(columns={'gender_Male': 'is_male',\n",
    "                   'partner_Yes': 'married',\n",
    "                   'dependents_Yes': 'children',\n",
    "                   'phone_service_Yes': 'phone_service',\n",
    "                   'multiple_lines_No phone service': 'no_phone_multiple_lines',\n",
    "                   'multiple_lines_Yes': 'multiple_lines',\n",
    "                   'online_security_No internet service': 'no_internet_online_security',\n",
    "                   'online_security_Yes': 'online_security',\n",
    "                   'online_backup_No internet service': 'no_internet_online_backup',\n",
    "                   'online_backup_Yes': 'online_backup',\n",
    "                   'device_protection_No internet service': 'no_internet_device_protection',\n",
    "                   'device_protection_Yes': 'device_protection',\n",
    "                   'tech_support_No internet service': 'no_internet_tech_support',\n",
    "                   'tech_support_Yes': 'tech_support',\n",
    "                   'streaming_tv_No internet service': 'no_internet_streaming_tv',\n",
    "                   'streaming_tv_Yes': 'streaming_tv',\n",
    "                   'streaming_movies_No internet service': 'no_internet_streaming_movies',\n",
    "                   'streaming_movies_Yes': 'streaming_movies',\n",
    "                   'paperless_billing_Yes': 'paperless_billing',\n",
    "                   'churn_Yes': 'churn',\n",
    "                   'contract_type_One year': 'one_year_contract',\n",
    "                   'contract_type_Two year': 'two_year_contract',\n",
    "                   'internet_service_type_Fiber optic': 'fiber_optic',\n",
    "                   'internet_service_type_None': 'no_internet',\n",
    "                   'payment_type_Credit card (automatic)': 'card_auto_pay',\n",
    "                   'payment_type_Electronic check': 'electronic_check',\n",
    "                   'payment_type_Mailed check': 'mailed_check'}, inplace=True)\n",
    "\n",
    "# also drop customer id for training purposes\n",
    "df = df.drop(columns=['customer_id'])"
   ]
  },
  {
   "cell_type": "code",
   "execution_count": 7,
   "id": "53499f9c",
   "metadata": {},
   "outputs": [
    {
     "data": {
      "text/plain": [
       "senior_citizen                   0\n",
       "tenure                           0\n",
       "monthly_charges                  0\n",
       "total_charges                    0\n",
       "is_male                          0\n",
       "married                          0\n",
       "children                         0\n",
       "phone_service                    0\n",
       "no_phone_multiple_lines          0\n",
       "multiple_lines                   0\n",
       "no_internet_online_security      0\n",
       "online_security                  0\n",
       "no_internet_online_backup        0\n",
       "online_backup                    0\n",
       "no_internet_device_protection    0\n",
       "device_protection                0\n",
       "no_internet_tech_support         0\n",
       "tech_support                     0\n",
       "no_internet_streaming_tv         0\n",
       "streaming_tv                     0\n",
       "no_internet_streaming_movies     0\n",
       "streaming_movies                 0\n",
       "paperless_billing                0\n",
       "churn                            0\n",
       "one_year_contract                0\n",
       "two_year_contract                0\n",
       "fiber_optic                      0\n",
       "no_internet                      0\n",
       "card_auto_pay                    0\n",
       "electronic_check                 0\n",
       "mailed_check                     0\n",
       "dtype: int64"
      ]
     },
     "execution_count": 7,
     "metadata": {},
     "output_type": "execute_result"
    }
   ],
   "source": [
    "# check the sum of each column to see if there is any redundancy\n",
    "# doing so shows that several columns made for the dummy list can be represented by just 1 column\n",
    "# the 'no_internet' column\n",
    "# may want to drop redundant columns later\n",
    "df.isna().sum()"
   ]
  },
  {
   "cell_type": "code",
   "execution_count": 11,
   "id": "869eda60",
   "metadata": {},
   "outputs": [
    {
     "data": {
      "text/plain": [
       "((3943, 31), (1691, 31), (1409, 31))"
      ]
     },
     "execution_count": 11,
     "metadata": {},
     "output_type": "execute_result"
    }
   ],
   "source": [
    "# almost done prepping the data,\n",
    "# now to split the data into our train, validate, and test samples\n",
    "\n",
    "train, test = train_test_split(df, \n",
    "                               train_size = 0.8,\n",
    "                               random_state=1313)\n",
    "\n",
    "train, validate = train_test_split(train,\n",
    "                                  train_size = 0.7,\n",
    "                                  random_state=1313)\n",
    "\n",
    "train.shape, validate.shape, test.shape"
   ]
  },
  {
   "cell_type": "code",
   "execution_count": null,
   "id": "9951e6b8",
   "metadata": {},
   "outputs": [],
   "source": []
  },
  {
   "cell_type": "markdown",
   "id": "131921f8",
   "metadata": {},
   "source": [
    "# Exploratory Data Analysis and Statistical Testing"
   ]
  },
  {
   "cell_type": "code",
   "execution_count": null,
   "id": "511b9b2a",
   "metadata": {},
   "outputs": [],
   "source": []
  },
  {
   "cell_type": "code",
   "execution_count": null,
   "id": "244b323d",
   "metadata": {},
   "outputs": [],
   "source": []
  },
  {
   "cell_type": "code",
   "execution_count": null,
   "id": "933ee120",
   "metadata": {},
   "outputs": [],
   "source": []
  },
  {
   "cell_type": "markdown",
   "id": "95756787",
   "metadata": {},
   "source": [
    "# Modeling to fit the Data"
   ]
  },
  {
   "cell_type": "code",
   "execution_count": null,
   "id": "b69a08a8",
   "metadata": {},
   "outputs": [],
   "source": []
  },
  {
   "cell_type": "code",
   "execution_count": null,
   "id": "ac4ae89b",
   "metadata": {},
   "outputs": [],
   "source": []
  },
  {
   "cell_type": "code",
   "execution_count": null,
   "id": "bc260eb3",
   "metadata": {},
   "outputs": [],
   "source": []
  },
  {
   "cell_type": "markdown",
   "id": "8eab6647",
   "metadata": {},
   "source": [
    "# Model Evaluation"
   ]
  },
  {
   "cell_type": "code",
   "execution_count": null,
   "id": "4e582d52",
   "metadata": {},
   "outputs": [],
   "source": []
  },
  {
   "cell_type": "code",
   "execution_count": null,
   "id": "82f75a2b",
   "metadata": {},
   "outputs": [],
   "source": []
  },
  {
   "cell_type": "code",
   "execution_count": null,
   "id": "165345d5",
   "metadata": {},
   "outputs": [],
   "source": []
  },
  {
   "cell_type": "markdown",
   "id": "a4983535",
   "metadata": {},
   "source": [
    "# Finding and Key Takeaways"
   ]
  },
  {
   "cell_type": "code",
   "execution_count": null,
   "id": "6073fb0b",
   "metadata": {},
   "outputs": [],
   "source": []
  }
 ],
 "metadata": {
  "kernelspec": {
   "display_name": "Python 3 (ipykernel)",
   "language": "python",
   "name": "python3"
  },
  "language_info": {
   "codemirror_mode": {
    "name": "ipython",
    "version": 3
   },
   "file_extension": ".py",
   "mimetype": "text/x-python",
   "name": "python",
   "nbconvert_exporter": "python",
   "pygments_lexer": "ipython3",
   "version": "3.9.7"
  }
 },
 "nbformat": 4,
 "nbformat_minor": 5
}
